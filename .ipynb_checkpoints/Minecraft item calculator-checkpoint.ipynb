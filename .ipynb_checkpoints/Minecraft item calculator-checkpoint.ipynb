{
 "cells": [
  {
   "cell_type": "code",
   "execution_count": 1,
   "id": "699ff1cb",
   "metadata": {},
   "outputs": [],
   "source": [
    "#递归搜索配方\n",
    "import yaml\n",
    "import pprint\n",
    "\n",
    "#https://github.com/AsherGlick/ResourceCalculator/raw/master/resource_lists/minecraft/resources.yaml\n",
    "with open('resources.yaml', 'r') as file:\n",
    "    recipes_data = yaml.safe_load(file)\n",
    "\n",
    "group_resource = {}\n",
    "for block in recipes_data['requirement_groups']:\n",
    "    group_resource[block]=recipes_data['requirement_groups'][block]\n",
    "#pprint.pprint(group_resource)\n",
    "\n",
    "def get_recipes(resource_id):\n",
    "    for block in recipes_data[\"resources\"]:\n",
    "        if block==resource_id:\n",
    "            return recipes_data[\"resources\"][block]['recipes']\n",
    "    for group in group_resource:\n",
    "        if resource_id in group_resource:\n",
    "            return [{'recipe_type': 'Raw Resource'}]\n",
    "    return None\n",
    "\n",
    "\n",
    "def get_material(item_id,s=1):\n",
    "    step = get_recipes(item_id)\n",
    "    \n",
    "    if step:\n",
    "        if step[0]['recipe_type']=='Raw Resource':\n",
    "            return {item_id:s}\n",
    "        materials={}\n",
    "        output = step[0]['output']\n",
    "        \n",
    "        for mat,quan in step[0]['requirements'].items():\n",
    "            x = get_material(mat,abs(quan)/output)\n",
    "            #print(x,mat)\n",
    "            for id_,qu in x.items():\n",
    "                if id_ in materials:\n",
    "                    materials[id_]+=qu*s\n",
    "                else:\n",
    "                    materials[id_]=qu*s\n",
    "        return materials;\n",
    "    return None"
   ]
  },
  {
   "cell_type": "code",
   "execution_count": 5,
   "id": "c221e187",
   "metadata": {},
   "outputs": [
    {
     "name": "stdout",
     "output_type": "stream",
     "text": [
      "1605\n"
     ]
    }
   ],
   "source": [
    "#获取译名对照表\n",
    "import bs4,requests\n",
    "res = requests.get(r'https://zh.minecraft.wiki/w/Minecraft_Wiki:%E8%AF%91%E5%90%8D%E6%A0%87%E5%87%86%E5%8C%96')\n",
    "soup=bs4.BeautifulSoup(res.text,'lxml')\n",
    "\n",
    "soup=bs4.BeautifulSoup(z,'lxml')\n",
    "all_content=soup.find('div',id='mw-content-text')\n",
    "all_table=all_content.find_all('table',class_='data-table')\n",
    "#print(all_table)\n",
    "ifcontinue=True\n",
    "zh2en={}\n",
    "en2zh={}\n",
    "for table in all_table:\n",
    "    trs=table.find_all('tr')[1:]\n",
    "    if(ifcontinue):\n",
    "        for tr in trs:\n",
    "            tds=tr.find_all('td')\n",
    "            if tds[2].text=='悦灵':    #无法形容\n",
    "                ifcontinue=False\n",
    "                break\n",
    "            #print(tds[2])\n",
    "            en=str(tds[1].text)\n",
    "            zh=str(tds[2].text)\n",
    "            zh2en[zh]=en\n",
    "            en2zh[en]=zh\n",
    "    else:\n",
    "        break\n",
    "#print(zh2en)\n",
    "#print(en2zh)\n",
    "print(len(zh2en))"
   ]
  },
  {
   "cell_type": "code",
   "execution_count": 6,
   "id": "7df57f26",
   "metadata": {},
   "outputs": [
    {
     "data": {
      "text/plain": [
       "'Composter'"
      ]
     },
     "execution_count": 6,
     "metadata": {},
     "output_type": "execute_result"
    }
   ],
   "source": [
    "zh2en['堆肥桶']"
   ]
  },
  {
   "cell_type": "code",
   "execution_count": 7,
   "id": "d0bd224f",
   "metadata": {},
   "outputs": [
    {
     "data": {
      "text/plain": [
       "'磨制花岗岩'"
      ]
     },
     "execution_count": 7,
     "metadata": {},
     "output_type": "execute_result"
    }
   ],
   "source": [
    "en2zh['Polished Granite']"
   ]
  },
  {
   "cell_type": "code",
   "execution_count": 14,
   "id": "454f5c13",
   "metadata": {},
   "outputs": [
    {
     "name": "stdout",
     "output_type": "stream",
     "text": [
      "[['石头', 367], ['红石粉', 125], ['漏斗', 83], ['白桦原木', 76], ['黏性活塞', 74], ['箱子', 55], ['活塞', 25], ['平滑石头台阶', 15], ['侦测器', 14], ['水桶', 11], ['黏液块', 8], ['石英楼梯', 7], ['红石中继器', 7], ['发射器', 4], ['投掷器', 3], ['拉杆', 3], ['橡木门', 3], ['橡木告示牌', 2], ['橡木栅栏门', 2], ['红石火把', 2], ['圆石墙', 1], ['失活的气泡珊瑚', 1], ['探测铁轨', 1], ['橡木按钮', 1], ['红石块', 1], ['红石比较器', 1], ['红石灯', 1]]\n"
     ]
    }
   ],
   "source": [
    "#读取材料列表\n",
    "import csv\n",
    "items = []\n",
    "\n",
    "def read_csv_to_array(file_path):\n",
    "    data_array = []\n",
    "    with open(file_path, 'r') as csvfile:\n",
    "        csv_reader = csv.reader(csvfile)\n",
    "        for row in csv_reader:\n",
    "            data_array.append(row)\n",
    "    return data_array\n",
    "\n",
    "csv_file_path = r\"E:\\1.18.2\\.minecraft\\config\\litematica\\material_list_2024-02-07_14.35.13.csv\"\n",
    "result = read_csv_to_array(csv_file_path)[1:]\n",
    "\n",
    "for row in result:\n",
    "    #print(row)\n",
    "    if(int(row[1])-int(row[3])>0):\n",
    "        items.append([row[0],int(row[1])-int(row[3])])\n",
    "print(items)"
   ]
  },
  {
   "cell_type": "code",
   "execution_count": 15,
   "id": "f529d09d",
   "metadata": {},
   "outputs": [],
   "source": [
    "#计算\n",
    "result = {}\n",
    "\n",
    "for item,quantity in items:\n",
    "    try:\n",
    "        item = zh2en[item]\n",
    "        materials_needed = get_material(item,quantity)\n",
    "        if materials_needed:\n",
    "            temp = []\n",
    "            for material, quantity_ in materials_needed.items():\n",
    "                temp.append([material,quantity_])\n",
    "            result[item]=temp\n",
    "        else:\n",
    "            print(f\"未找到 {item} 的配方。\")\n",
    "            result[item]=[[item,quantity]]\n",
    "    except:\n",
    "        print(f\"未找到 {item} 的英文\")"
   ]
  },
  {
   "cell_type": "code",
   "execution_count": 16,
   "id": "423de191",
   "metadata": {
    "scrolled": true
   },
   "outputs": [
    {
     "data": {
      "text/plain": [
       "{'Stone': [['Stone', 367]],\n",
       " 'Redstone Dust': [['Redstone Dust', 125]],\n",
       " 'Hopper': [['Iron Ingot', 415.0], ['Any Planks', 664.0]],\n",
       " 'Birch Log': [['Birch Log', 76]],\n",
       " 'Sticky Piston': [['Cobblestone', 296.0],\n",
       "  ['Redstone Dust', 74.0],\n",
       "  ['Iron Ingot', 74.0],\n",
       "  ['Any Planks', 222.0],\n",
       "  ['Slimeball', 74.0]],\n",
       " 'Chest': [['Any Planks', 440.0]],\n",
       " 'Piston': [['Cobblestone', 100.0],\n",
       "  ['Redstone Dust', 25.0],\n",
       "  ['Iron Ingot', 25.0],\n",
       "  ['Any Planks', 75.0]],\n",
       " 'Smooth Stone Slab': [['Stone', 7.5], ['Coal', 0.9375]],\n",
       " 'Observer': [['Cobblestone', 84.0],\n",
       "  ['Redstone Dust', 28.0],\n",
       "  ['Nether Quartz', 14.0]],\n",
       " 'Water Bucket': [['Water Bucket', 11]],\n",
       " 'Slime Block': [['Slimeball', 72.0]],\n",
       " 'Quartz Stairs': [['Nether Quartz', 28.0]],\n",
       " 'Redstone Repeater': [['Stone', 21.0],\n",
       "  ['Any Planks', 7.0],\n",
       "  ['Redstone Dust', 21.0]],\n",
       " 'Dispenser': [['Cobblestone', 28.0],\n",
       "  ['Redstone Dust', 4.0],\n",
       "  ['String', 12.0],\n",
       "  ['Any Planks', 6.0]],\n",
       " 'Dropper': [['Cobblestone', 21.0], ['Redstone Dust', 3.0]],\n",
       " 'Lever': [['Cobblestone', 3.0], ['Any Planks', 1.5]],\n",
       " 'Oak Door': [['Any Oak Log', 1.5]],\n",
       " 'Oak Sign': [['Any Oak Log', 1.0], ['Any Planks', 0.3333333333333333]],\n",
       " 'Oak Fence Gate': [['Any Planks', 4.0], ['Any Oak Log', 1.0]],\n",
       " 'Redstone Torch': [['Any Planks', 1.0], ['Redstone Dust', 2.0]],\n",
       " 'Cobblestone Wall': [['Cobblestone', 1.0]],\n",
       " 'Dead Bubble Coral': [['Dead Bubble Coral', 1]],\n",
       " 'Detector Rail': [['Iron Ingot', 1.0],\n",
       "  ['Redstone Dust', 0.16666666666666666],\n",
       "  ['Stone', 0.3333333333333333]],\n",
       " 'Oak Button': [['Any Oak Log', 0.25]],\n",
       " 'Block of Redstone': [['Redstone Dust', 9.0]],\n",
       " 'Redstone Comparator': [['Stone', 3.0],\n",
       "  ['Any Planks', 1.5],\n",
       "  ['Redstone Dust', 3.0],\n",
       "  ['Nether Quartz', 1.0]],\n",
       " 'Redstone Lamp': [['Redstone Dust', 4.0], ['Glowstone Dust', 4.0]]}"
      ]
     },
     "execution_count": 16,
     "metadata": {},
     "output_type": "execute_result"
    }
   ],
   "source": [
    "result"
   ]
  },
  {
   "cell_type": "code",
   "execution_count": 11,
   "id": "dede298d",
   "metadata": {},
   "outputs": [
    {
     "data": {
      "text/plain": [
       "'黏性活塞'"
      ]
     },
     "execution_count": 11,
     "metadata": {},
     "output_type": "execute_result"
    }
   ],
   "source": [
    "en2zh['Sticky Piston']"
   ]
  },
  {
   "cell_type": "code",
   "execution_count": 17,
   "id": "45fc718d",
   "metadata": {},
   "outputs": [],
   "source": [
    "def stuck(num):\n",
    "    if num>64:\n",
    "        return f\"{num//64}组+{num%64}个\"\n",
    "    else:\n",
    "        return f\"{num}个\""
   ]
  },
  {
   "cell_type": "code",
   "execution_count": 18,
   "id": "798c1278",
   "metadata": {},
   "outputs": [],
   "source": [
    "import pandas as pd\n",
    "\n",
    "def write_to_csv_and_sum(dictionary, output_file):\n",
    "    df = pd.DataFrame(columns=['Block'] + list(set(en2zh.get(material, material) for materials_list in dictionary.values() for material, _ in materials_list)))\n",
    "\n",
    "    totals = {}\n",
    "    for block, materials_list in dictionary.items():\n",
    "        row_data = {'Block': en2zh.get(block, block)}\n",
    "\n",
    "        for material, quantity in materials_list:\n",
    "            original_quantity = int(quantity)\n",
    "            row_data[en2zh.get(material, material)] = str(stuck(original_quantity))\n",
    "            # 更新总和\n",
    "            totals[en2zh.get(material, material)] = totals.get(en2zh.get(material, material), 0) + original_quantity\n",
    "\n",
    "        df = df.append(row_data, ignore_index=True)\n",
    "    for material, total_quantity in totals.items():             #总和处理成几组\n",
    "        totals[material] = stuck(total_quantity)              \n",
    "\n",
    "    # 添加总和行\n",
    "    df = df.append({'Block': 'Total', **totals}, ignore_index=True)\n",
    "\n",
    "    # 将 DataFrame 写入 CSV 文件\n",
    "    df.to_csv(output_file, index=False, encoding='ANSI')\n",
    "    # df.to_csv(output_file, index=False, encoding='utf-8')\n",
    "\n",
    "output_filename = 'output.csv'\n",
    "write_to_csv_and_sum(result, output_filename)\n",
    "\n"
   ]
  },
  {
   "cell_type": "code",
   "execution_count": null,
   "id": "6d9cc221",
   "metadata": {},
   "outputs": [],
   "source": []
  }
 ],
 "metadata": {
  "kernelspec": {
   "display_name": "Python 3 (ipykernel)",
   "language": "python",
   "name": "python3"
  },
  "language_info": {
   "codemirror_mode": {
    "name": "ipython",
    "version": 3
   },
   "file_extension": ".py",
   "mimetype": "text/x-python",
   "name": "python",
   "nbconvert_exporter": "python",
   "pygments_lexer": "ipython3",
   "version": "3.9.7"
  }
 },
 "nbformat": 4,
 "nbformat_minor": 5
}
